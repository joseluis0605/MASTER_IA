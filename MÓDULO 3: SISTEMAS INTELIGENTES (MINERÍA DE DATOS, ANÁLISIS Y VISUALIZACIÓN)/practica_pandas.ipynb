{
 "cells": [
  {
   "cell_type": "markdown",
   "id": "b84bd1ae-c972-4c14-96f5-d12e9c38c2e0",
   "metadata": {},
   "source": [
    "#  Estructuras y formato de los datos\n",
    "## Sistemas Inteligentes\n",
    "\n",
    "### Autores\n",
    "- JOSE LUIS MEZQUITA JIMENEZ\n",
    "- JESUS PEREZ DE MIGUEL"
   ]
  },
  {
   "cell_type": "markdown",
   "id": "b31a9301-64cf-4e81-bb6c-0475eafe35ab",
   "metadata": {},
   "source": [
    "## Ejercicio 1\n",
    "Análisis de datos sobre un dataset obtenido de un repositorio de UCI Machine Learning sobre enfermedades de corazón, \"Heart Disease Dataset\"."
   ]
  },
  {
   "cell_type": "markdown",
   "id": "2a195542-789a-4768-b124-235f6efcea22",
   "metadata": {},
   "source": [
    "**a - Carga de datos y presentación de los mismos en formato Dataframe, donde el nombre de las columnas corresponde con el nombre real de las variables.**"
   ]
  },
  {
   "cell_type": "code",
   "execution_count": 92,
   "id": "81ec7754-e5f9-45af-b84b-f02af64bc4cc",
   "metadata": {},
   "outputs": [],
   "source": [
    "# 1.1- Instalación la librería ucimlrepo. Use de \"quiet\" (-q) para suprimir mensajes de pip\n",
    "!pip3 install -U ucimlrepo -q\n",
    "\n",
    "# 1.2 - Carga el dataset del repo\n",
    "from ucimlrepo import fetch_ucirepo \n",
    "heart_disease = fetch_ucirepo(id=45) "
   ]
  },
  {
   "cell_type": "code",
   "execution_count": 189,
   "id": "0cbed3ba-fcd4-4635-9076-98d377df1671",
   "metadata": {},
   "outputs": [
    {
     "data": {
      "text/html": [
       "<div>\n",
       "<style scoped>\n",
       "    .dataframe tbody tr th:only-of-type {\n",
       "        vertical-align: middle;\n",
       "    }\n",
       "\n",
       "    .dataframe tbody tr th {\n",
       "        vertical-align: top;\n",
       "    }\n",
       "\n",
       "    .dataframe thead th {\n",
       "        text-align: right;\n",
       "    }\n",
       "</style>\n",
       "<table border=\"1\" class=\"dataframe\">\n",
       "  <thead>\n",
       "    <tr style=\"text-align: right;\">\n",
       "      <th></th>\n",
       "      <th>age</th>\n",
       "      <th>sex</th>\n",
       "      <th>cp</th>\n",
       "      <th>trestbps</th>\n",
       "      <th>chol</th>\n",
       "      <th>fbs</th>\n",
       "      <th>restecg</th>\n",
       "      <th>thalach</th>\n",
       "      <th>exang</th>\n",
       "      <th>oldpeak</th>\n",
       "      <th>slope</th>\n",
       "      <th>ca</th>\n",
       "      <th>thal</th>\n",
       "      <th>num</th>\n",
       "    </tr>\n",
       "  </thead>\n",
       "  <tbody>\n",
       "    <tr>\n",
       "      <th>0</th>\n",
       "      <td>63</td>\n",
       "      <td>1</td>\n",
       "      <td>1</td>\n",
       "      <td>145</td>\n",
       "      <td>233</td>\n",
       "      <td>1</td>\n",
       "      <td>2</td>\n",
       "      <td>150</td>\n",
       "      <td>0</td>\n",
       "      <td>2.3</td>\n",
       "      <td>3</td>\n",
       "      <td>0.0</td>\n",
       "      <td>6.0</td>\n",
       "      <td>0</td>\n",
       "    </tr>\n",
       "    <tr>\n",
       "      <th>1</th>\n",
       "      <td>67</td>\n",
       "      <td>1</td>\n",
       "      <td>4</td>\n",
       "      <td>160</td>\n",
       "      <td>286</td>\n",
       "      <td>0</td>\n",
       "      <td>2</td>\n",
       "      <td>108</td>\n",
       "      <td>1</td>\n",
       "      <td>1.5</td>\n",
       "      <td>2</td>\n",
       "      <td>3.0</td>\n",
       "      <td>3.0</td>\n",
       "      <td>2</td>\n",
       "    </tr>\n",
       "    <tr>\n",
       "      <th>2</th>\n",
       "      <td>67</td>\n",
       "      <td>1</td>\n",
       "      <td>4</td>\n",
       "      <td>120</td>\n",
       "      <td>229</td>\n",
       "      <td>0</td>\n",
       "      <td>2</td>\n",
       "      <td>129</td>\n",
       "      <td>1</td>\n",
       "      <td>2.6</td>\n",
       "      <td>2</td>\n",
       "      <td>2.0</td>\n",
       "      <td>7.0</td>\n",
       "      <td>1</td>\n",
       "    </tr>\n",
       "    <tr>\n",
       "      <th>3</th>\n",
       "      <td>37</td>\n",
       "      <td>1</td>\n",
       "      <td>3</td>\n",
       "      <td>130</td>\n",
       "      <td>250</td>\n",
       "      <td>0</td>\n",
       "      <td>0</td>\n",
       "      <td>187</td>\n",
       "      <td>0</td>\n",
       "      <td>3.5</td>\n",
       "      <td>3</td>\n",
       "      <td>0.0</td>\n",
       "      <td>3.0</td>\n",
       "      <td>0</td>\n",
       "    </tr>\n",
       "    <tr>\n",
       "      <th>4</th>\n",
       "      <td>41</td>\n",
       "      <td>0</td>\n",
       "      <td>2</td>\n",
       "      <td>130</td>\n",
       "      <td>204</td>\n",
       "      <td>0</td>\n",
       "      <td>2</td>\n",
       "      <td>172</td>\n",
       "      <td>0</td>\n",
       "      <td>1.4</td>\n",
       "      <td>1</td>\n",
       "      <td>0.0</td>\n",
       "      <td>3.0</td>\n",
       "      <td>0</td>\n",
       "    </tr>\n",
       "  </tbody>\n",
       "</table>\n",
       "</div>"
      ],
      "text/plain": [
       "   age  sex  cp  trestbps  chol  fbs  restecg  thalach  exang  oldpeak  slope  \\\n",
       "0   63    1   1       145   233    1        2      150      0      2.3      3   \n",
       "1   67    1   4       160   286    0        2      108      1      1.5      2   \n",
       "2   67    1   4       120   229    0        2      129      1      2.6      2   \n",
       "3   37    1   3       130   250    0        0      187      0      3.5      3   \n",
       "4   41    0   2       130   204    0        2      172      0      1.4      1   \n",
       "\n",
       "    ca  thal  num  \n",
       "0  0.0   6.0    0  \n",
       "1  3.0   3.0    2  \n",
       "2  2.0   7.0    1  \n",
       "3  0.0   3.0    0  \n",
       "4  0.0   3.0    0  "
      ]
     },
     "execution_count": 189,
     "metadata": {},
     "output_type": "execute_result"
    }
   ],
   "source": [
    "# 2.1 - Creación de Pandas Dataframe asegurando que las columnas tengan los nombres reales de las variables.\n",
    "import pandas as pd\n",
    "df = pd.DataFrame(heart_disease.data.original, columns=heart_disease.data.headers)\n",
    "\n",
    "# 2.2 Muestra las primeras filas para verificar que todo está bien.\n",
    "df.head()\n"
   ]
  },
  {
   "cell_type": "markdown",
   "id": "d5096524-84e6-4cef-8379-7ba1ece0f957",
   "metadata": {},
   "source": [
    "**b - Análisis del DataFrame. Tipos de variables numéricas: discretas o continuas.**"
   ]
  },
  {
   "cell_type": "code",
   "execution_count": 190,
   "id": "cecb584d-093c-4f17-9e63-15133569b083",
   "metadata": {},
   "outputs": [
    {
     "data": {
      "text/plain": [
       "age           int64\n",
       "sex           int64\n",
       "cp            int64\n",
       "trestbps      int64\n",
       "chol          int64\n",
       "fbs           int64\n",
       "restecg       int64\n",
       "thalach       int64\n",
       "exang         int64\n",
       "oldpeak     float64\n",
       "slope         int64\n",
       "ca          float64\n",
       "thal        float64\n",
       "num           int64\n",
       "dtype: object"
      ]
     },
     "execution_count": 190,
     "metadata": {},
     "output_type": "execute_result"
    }
   ],
   "source": [
    "# 1.1 - Analisis del tipo de los datos.\n",
    "df.dtypes"
   ]
  },
  {
   "cell_type": "code",
   "execution_count": 191,
   "id": "349b9073-58bf-45d9-b87f-0f0e939ada9e",
   "metadata": {},
   "outputs": [
    {
     "name": "stdout",
     "output_type": "stream",
     "text": [
      "Variables numéricas: ['age', 'sex', 'cp', 'trestbps', 'chol', 'fbs', 'restecg', 'thalach', 'exang', 'oldpeak', 'slope', 'ca', 'thal', 'num']\n"
     ]
    }
   ],
   "source": [
    "# 1.2 - Listado de variables numéricas\n",
    "numerical_columns = df.select_dtypes(include=['int64', 'float64']).columns\n",
    "print(\"Variables numéricas:\", list(numerical_columns))\n"
   ]
  },
  {
   "cell_type": "code",
   "execution_count": 192,
   "id": "ad8bc4d0-53f2-47c2-a75b-bced2789f873",
   "metadata": {},
   "outputs": [
    {
     "name": "stdout",
     "output_type": "stream",
     "text": [
      "age: 41 valores únicos\n",
      "sex: 2 valores únicos\n",
      "cp: 4 valores únicos\n",
      "trestbps: 50 valores únicos\n",
      "chol: 152 valores únicos\n",
      "fbs: 2 valores únicos\n",
      "restecg: 3 valores únicos\n",
      "thalach: 91 valores únicos\n",
      "exang: 2 valores únicos\n",
      "oldpeak: 40 valores únicos\n",
      "slope: 3 valores únicos\n",
      "ca: 4 valores únicos\n",
      "thal: 3 valores únicos\n",
      "num: 5 valores únicos\n"
     ]
    }
   ],
   "source": [
    "# 2.1 - Determinación de variabled discretas\n",
    "for col in numerical_columns:\n",
    "    unique_values = df[col].nunique()\n",
    "    print(f\"{col}: {unique_values} valores únicos\")\n"
   ]
  },
  {
   "cell_type": "code",
   "execution_count": 193,
   "id": "d35c92c2-0faa-469c-82e4-40a9e5e11364",
   "metadata": {},
   "outputs": [
    {
     "name": "stdout",
     "output_type": "stream",
     "text": [
      "Variables discretas: ['sex', 'cp', 'fbs', 'restecg', 'exang', 'slope', 'ca', 'thal', 'num']\n"
     ]
    }
   ],
   "source": [
    "# 2.1.1 - Consideramos discretas las variables con menos de 10 valores únicos\n",
    "discrete_vars = [col for col in numerical_columns if df[col].nunique() < 10]\n",
    "print(\"Variables discretas:\", discrete_vars)"
   ]
  },
  {
   "cell_type": "code",
   "execution_count": 194,
   "id": "6625c45b-ba23-458c-9574-58fcd79926df",
   "metadata": {},
   "outputs": [
    {
     "name": "stdout",
     "output_type": "stream",
     "text": [
      "Variables continuas: ['age', 'trestbps', 'chol', 'thalach', 'oldpeak']\n"
     ]
    }
   ],
   "source": [
    "# 2.1.2 - Consideramos continuas las variables no discretas\n",
    "continuous_vars = [col for col in numerical_columns if col not in discrete_vars]\n",
    "print(\"Variables continuas:\", continuous_vars)"
   ]
  },
  {
   "cell_type": "markdown",
   "id": "9d5a098c-b6b4-42b3-bd7b-343e6406fc14",
   "metadata": {},
   "source": [
    "**c - Análisis del DataFrame. Tipos de variables categóricas: ordinales o nominales.**"
   ]
  },
  {
   "cell_type": "code",
   "execution_count": 195,
   "id": "46a77cb4-2356-4889-afff-c8397343fdad",
   "metadata": {},
   "outputs": [
    {
     "name": "stdout",
     "output_type": "stream",
     "text": [
      "Variables categóricas: ['sex', 'cp', 'fbs', 'restecg', 'exang', 'slope', 'ca', 'thal', 'num']\n"
     ]
    }
   ],
   "source": [
    "# 1.1 Entendemos que las variable numéricas discretas son varibles categóricas\n",
    "print(\"Variables categóricas:\", discrete_vars)"
   ]
  },
  {
   "cell_type": "code",
   "execution_count": 196,
   "id": "3830ff61-c65c-4e5e-995a-071fc765f1f3",
   "metadata": {},
   "outputs": [
    {
     "name": "stdout",
     "output_type": "stream",
     "text": [
      "Variables categóricas nominales: ['sex', 'cp', 'fbs', 'exang', 'slope']\n",
      "Variables categóricas ordinales: ['restecg', 'ca', 'thal', 'num']\n"
     ]
    }
   ],
   "source": [
    "# 2.1 Siguiendo el significado de las variables se pueden clasificar de la siguiente manera:\n",
    "nominal_vars = [\"sex\",\"cp\",\"fbs\", \"exang\", \"slope\"]\n",
    "ordinal_vars = [col for col in discrete_vars if col not in nominal_vars]\n",
    "\n",
    "print(\"Variables categóricas nominales:\", nominal_vars)\n",
    "print(\"Variables categóricas ordinales:\", ordinal_vars)"
   ]
  },
  {
   "cell_type": "markdown",
   "id": "7ae9412b-65d4-4a7a-91cc-8b27049eee69",
   "metadata": {},
   "source": [
    "**d - ¿Hay valores faltantes (missing values) en el dataset?¿Qué símbolo se\n",
    "utiliza para marcarlos? ¿Se utiliza más de un tipo de símbolo?**"
   ]
  },
  {
   "cell_type": "code",
   "execution_count": 197,
   "id": "a7e13616-42bc-4d7f-bb41-9d086e4ff279",
   "metadata": {},
   "outputs": [
    {
     "name": "stdout",
     "output_type": "stream",
     "text": [
      "Valores faltantes por columna:\n",
      " ca      4\n",
      "thal    2\n",
      "dtype: int64\n"
     ]
    }
   ],
   "source": [
    "# Existen valores faltantes tal y como define la información en la base de datos.\n",
    "# El simbolo es \"NaN\" y solo se usa ese.\n",
    "\n",
    "missing_values = df.isnull().sum()\n",
    "missing_values = missing_values[missing_values > 0]\n",
    "print(\"Valores faltantes por columna:\\n\", missing_values)"
   ]
  },
  {
   "cell_type": "markdown",
   "id": "a28b2251-30bf-40dd-9e2b-4833e99cf46b",
   "metadata": {},
   "source": [
    "**e - Lista de valores posibles que puede tomar la variable “thal”. ¿Se pueden ordenar estos valores en una\n",
    "escala de mayor a menor? ¿Podríamos considerarlos valores categóricos ordinales?**\n"
   ]
  },
  {
   "cell_type": "code",
   "execution_count": 198,
   "id": "7081adeb-2c13-42e3-bc6a-14c3845d5f1e",
   "metadata": {},
   "outputs": [
    {
     "name": "stdout",
     "output_type": "stream",
     "text": [
      "[ 6.  3.  7. nan]\n"
     ]
    }
   ],
   "source": [
    "valores_thal = df[\"thal\"].unique()\n",
    "print(valores_thal);"
   ]
  },
  {
   "cell_type": "markdown",
   "id": "6e06fd9f-377b-4e1b-9410-062b2256daac",
   "metadata": {},
   "source": [
    "Según \"https://rpubs.com/albvsant/proyecto_1Parcial_par6\":\n",
    "\n",
    "thal: El estado del corazón según la prueba de Thallium (Categórica con 3 niveles)\n",
    "N = normal;\n",
    "DF = defecto fijo\n",
    "DR = defecto reversible\n",
    "\n",
    "Estos valores tienen un orden inherente porque indican diferentes niveles de anormalidad en los resultados de una prueba de talio. Se pueden ordenar de menor a mayor gravedad.\n",
    "\n",
    "Por lo tanto \"thal\" tendría valores categóricos ordinales ya que presentan un orden jerárquico."
   ]
  },
  {
   "cell_type": "markdown",
   "id": "2e35efb5-3686-4b72-b7c9-2740765ce814",
   "metadata": {},
   "source": [
    "## Ejercicio 2\n",
    "**a - Importar dataset y presentarlo en formato DataFrame, donde el nombre de las columnas\n",
    "debe corresponder con el nombre real de las variables. Señala qué\n",
    "variables del DataFrame presentan valores faltantes (missing values).**"
   ]
  },
  {
   "cell_type": "code",
   "execution_count": 237,
   "id": "ecf53cfb-0816-499f-99be-487190e44cad",
   "metadata": {},
   "outputs": [
    {
     "name": "stdout",
     "output_type": "stream",
     "text": [
      "   age         workclass  fnlwgt  education  education-num  \\\n",
      "0   39         State-gov   77516  Bachelors             13   \n",
      "1   50  Self-emp-not-inc   83311  Bachelors             13   \n",
      "2   38           Private  215646    HS-grad              9   \n",
      "3   53           Private  234721       11th              7   \n",
      "4   28           Private  338409  Bachelors             13   \n",
      "\n",
      "       marital-status         occupation   relationship   race     sex  \\\n",
      "0       Never-married       Adm-clerical  Not-in-family  White    Male   \n",
      "1  Married-civ-spouse    Exec-managerial        Husband  White    Male   \n",
      "2            Divorced  Handlers-cleaners  Not-in-family  White    Male   \n",
      "3  Married-civ-spouse  Handlers-cleaners        Husband  Black    Male   \n",
      "4  Married-civ-spouse     Prof-specialty           Wife  Black  Female   \n",
      "\n",
      "   capital-gain  capital-loss  hours-per-week native-country income  \n",
      "0          2174             0              40  United-States  <=50K  \n",
      "1             0             0              13  United-States  <=50K  \n",
      "2             0             0              40  United-States  <=50K  \n",
      "3             0             0              40  United-States  <=50K  \n",
      "4             0             0              40           Cuba  <=50K  \n"
     ]
    }
   ],
   "source": [
    "# 1.2 - Carga el dataset del repo\n",
    "census_income = fetch_ucirepo(id=20) \n",
    "\n",
    "# 1.2 - Creación de Pandas Dataframe asegurando que las columnas tengan los nombres reales de las variables.\n",
    "df = pd.DataFrame(census_income.data.original, columns=census_income.data.headers)\n",
    "\n",
    "print(df.head())"
   ]
  },
  {
   "cell_type": "code",
   "execution_count": 200,
   "id": "7010cd1b-3e33-49a0-a3c7-88fea6079687",
   "metadata": {},
   "outputs": [
    {
     "name": "stdout",
     "output_type": "stream",
     "text": [
      "Valores faltantes por columna:\n",
      "workclass         963\n",
      "occupation        966\n",
      "native-country    274\n",
      "dtype: int64\n"
     ]
    }
   ],
   "source": [
    "\n",
    "# 1.3 - Variables con valores faltantes\n",
    "missing_values = df.isnull().sum()\n",
    "print(\"Valores faltantes por columna:\")\n",
    "print(missing_values[missing_values > 0])"
   ]
  },
  {
   "cell_type": "markdown",
   "id": "cb030256-9ad0-43f9-a42a-407c5fd50b0b",
   "metadata": {},
   "source": [
    "**b - Análisis del DataFrame. Tipos de variables numéricas y categóricas: discretas, continuas, ordinales o nominales**"
   ]
  },
  {
   "cell_type": "code",
   "execution_count": 201,
   "id": "c07ca2a7-f600-4ff2-9765-53b1a3fcd0cd",
   "metadata": {},
   "outputs": [
    {
     "name": "stdout",
     "output_type": "stream",
     "text": [
      "Variables numéricas: ['age', 'fnlwgt', 'education-num', 'capital-gain', 'capital-loss', 'hours-per-week']\n"
     ]
    }
   ],
   "source": [
    "# 1.1 - Listado de variables numéricas\n",
    "numerical_columns = df.select_dtypes(include=['int64', 'float64']).columns\n",
    "print(\"Variables numéricas:\", list(numerical_columns))\n"
   ]
  },
  {
   "cell_type": "code",
   "execution_count": 202,
   "id": "c382f0c9-fe0a-4699-92de-2770c8d42871",
   "metadata": {},
   "outputs": [
    {
     "name": "stdout",
     "output_type": "stream",
     "text": [
      "age: 74 valores únicos\n",
      "fnlwgt: 28523 valores únicos\n",
      "education-num: 16 valores únicos\n",
      "capital-gain: 123 valores únicos\n",
      "capital-loss: 99 valores únicos\n",
      "hours-per-week: 96 valores únicos\n"
     ]
    }
   ],
   "source": [
    "# 1.2 - Determinación de variabled discretas\n",
    "for col in numerical_columns:\n",
    "    unique_values = df[col].nunique()\n",
    "    print(f\"{col}: {unique_values} valores únicos\")"
   ]
  },
  {
   "cell_type": "code",
   "execution_count": 203,
   "id": "f164cf66-866f-438e-9d49-0d0ef32e1e5d",
   "metadata": {},
   "outputs": [
    {
     "name": "stdout",
     "output_type": "stream",
     "text": [
      "Variables numéricas discretas: ['education-num']\n"
     ]
    }
   ],
   "source": [
    "# 1.2.1 - Consideramos discretas las variables con menos de 20 valores únicos no nulos\n",
    "discrete_vars = [col for col in numerical_columns if df[col].nunique() < 20]\n",
    "print(\"Variables numéricas discretas:\", discrete_vars)"
   ]
  },
  {
   "cell_type": "code",
   "execution_count": 204,
   "id": "c023b2a0-3736-46b3-ab56-a96ce30eb3c2",
   "metadata": {},
   "outputs": [
    {
     "name": "stdout",
     "output_type": "stream",
     "text": [
      "Variables numéricas continuas: ['age', 'fnlwgt', 'capital-gain', 'capital-loss', 'hours-per-week']\n"
     ]
    }
   ],
   "source": [
    "# 1.2.2 - Consideramos continuas las variables no discretas\n",
    "continuous_vars = [col for col in numerical_columns if col not in discrete_vars]\n",
    "print(\"Variables numéricas continuas:\", continuous_vars)"
   ]
  },
  {
   "cell_type": "code",
   "execution_count": 205,
   "id": "09599661-f315-4dca-9604-c0f1cc543ffd",
   "metadata": {},
   "outputs": [
    {
     "name": "stdout",
     "output_type": "stream",
     "text": [
      "Variables categóricas: ['workclass', 'education', 'marital-status', 'occupation', 'relationship', 'race', 'sex', 'native-country', 'income', 'education-num']\n"
     ]
    }
   ],
   "source": [
    "# 2.1 - Variables categóricas, serán las no numéricas y las numéricas discretas obtenidas anteriormente.\n",
    "categorical_columns = df.select_dtypes(include=['object']).columns\n",
    "categorical_vars = [col for col in categorical_columns] + discrete_vars\n",
    "\n",
    "print(\"Variables categóricas:\", categorical_vars)"
   ]
  },
  {
   "cell_type": "code",
   "execution_count": 206,
   "id": "bbe6ab3d-ced8-4ed4-907d-37254befd7e1",
   "metadata": {},
   "outputs": [
    {
     "name": "stdout",
     "output_type": "stream",
     "text": [
      "Variables categóricas nominales: ['workclass', 'marital-status', 'occupation', 'relationship', 'race', 'sex', 'native-country']\n",
      "Variables categóricas ordinales: ['education', 'income', 'education-num']\n"
     ]
    }
   ],
   "source": [
    "# 2.2 - Siguiendo el significado de las variables se pueden clasificar de la siguiente manera:\n",
    "categorical_nominal_vars = [\"workclass\",\"marital-status\",\"occupation\", \"relationship\", \"race\", \"sex\", \"native-country\"]\n",
    "categorical_ordinal_vars = [col for col in categorical_vars if col not in categorical_nominal_vars]\n",
    "\n",
    "print(\"Variables categóricas nominales:\", categorical_nominal_vars)\n",
    "print(\"Variables categóricas ordinales:\", categorical_ordinal_vars)"
   ]
  },
  {
   "cell_type": "markdown",
   "id": "ed50b4a2-1364-43c8-86ae-4b695406c82a",
   "metadata": {},
   "source": [
    "**c - Registros repetidos en el dataset. ¿Cuántos elementos hay en el DataFrame original? ¿Cuántos\n",
    "elementos repetidos hay? ¿Cuántos elementos únicos?**"
   ]
  },
  {
   "cell_type": "code",
   "execution_count": 207,
   "id": "1832d8ac-9735-4c0c-bc1c-7598d29443b3",
   "metadata": {},
   "outputs": [
    {
     "name": "stdout",
     "output_type": "stream",
     "text": [
      "Registros duplicados: 29\n",
      "Registros únicos: 48813\n",
      "Registros totales: 48842\n"
     ]
    }
   ],
   "source": [
    "# 1 - Detección de registros repetidos y cálculo de registros únicos (el resto)\n",
    "num_samples = df.shape[0]\n",
    "num_duplicated = df.duplicated().sum()\n",
    "num_unique = num_samples - num_duplicated\n",
    "\n",
    "print(f\"Registros duplicados: {num_duplicated}\")\n",
    "print(f\"Registros únicos: {num_unique}\")\n",
    "print(f\"Registros totales: {num_samples}\")"
   ]
  },
  {
   "cell_type": "markdown",
   "id": "cf2b100e-2632-4d53-96a3-e36f3cf0341d",
   "metadata": {},
   "source": [
    "**d - Crear un DataFrame llamado en el que estén los elementos repetidos del DataFrame original. ¿Cuántos de\n",
    "ellos tienen un país de origen indeterminado? ¿Cuál es la proporción entre mujeres y hombres? ¿Cuántos cobran más de 50 mil dólares?**"
   ]
  },
  {
   "cell_type": "code",
   "execution_count": 208,
   "id": "d8cf702b-6bb6-4ca0-bf64-c8b492684441",
   "metadata": {},
   "outputs": [
    {
     "name": "stdout",
     "output_type": "stream",
     "text": [
      "Registros duplicados: 57\n"
     ]
    }
   ],
   "source": [
    "# 1 - Filtrado de Dataframe original marcando todas las filas duplicadas como True.\n",
    "df_dup = df[df.duplicated(keep=False)]\n",
    "print(f\"Registros duplicados: {df_dup.shape[0]}\")"
   ]
  },
  {
   "cell_type": "code",
   "execution_count": 209,
   "id": "f1712f33-3667-437b-ae9a-3b7625e46669",
   "metadata": {},
   "outputs": [
    {
     "name": "stdout",
     "output_type": "stream",
     "text": [
      "Total con país de origen indeterminado: 2\n"
     ]
    }
   ],
   "source": [
    "# 2 - Filtramos los registros con país de origen (\"native-country\") indeterminado (NaN, \"?\" o vacío)\n",
    "\n",
    "# Lista de todos los diferentes valores para ver qué posibles valores indeterminados pueden haber.\n",
    "#df_dup['native-country'].unique().tolist()\n",
    "\n",
    "undefined_country = df_dup['native-country'].isna().sum() + (df_dup['native-country'] == \"?\").sum() + (df_dup['native-country'] == \"\").sum()\n",
    "print(f\"Registros con país de origen indeterminado: {undefined_country}\")"
   ]
  },
  {
   "cell_type": "code",
   "execution_count": 210,
   "id": "9384df2c-801a-4e30-b6a8-49bd880a37a0",
   "metadata": {},
   "outputs": [
    {
     "name": "stdout",
     "output_type": "stream",
     "text": [
      "Proporción entre hombres y mujeres (%): sex\n",
      "Male      66.666667\n",
      "Female    33.333333\n",
      "Name: proportion, dtype: float64\n"
     ]
    }
   ],
   "source": [
    "# 3 - Usando el método value_counts normalizando a porcentaje se puede obtener la proporción entre hombres (Male) y mujeres (Female)\n",
    "sex_rates = df_dup['sex'].value_counts(normalize=True) * 100\n",
    "print(f\"Proporción entre hombres y mujeres (%): {sex_rates}\")"
   ]
  },
  {
   "cell_type": "code",
   "execution_count": 211,
   "id": "0bc080ce-7866-4ca4-bfc9-c8069fd04188",
   "metadata": {},
   "outputs": [
    {
     "name": "stdout",
     "output_type": "stream",
     "text": [
      "Registros con salarios mayores a 50.000: 4\n"
     ]
    }
   ],
   "source": [
    "# 4 - Filtrado del DataFrame por el valor de salario (income)\n",
    "num_high_income = df_dup[df_dup['income'] == \">50K\"].shape[0]\n",
    "print(f\"Registros con salarios mayores a 50.000: {num_high_income}\")"
   ]
  },
  {
   "cell_type": "markdown",
   "id": "23afe7ce-8277-47f5-87d9-cb894a72f891",
   "metadata": {},
   "source": [
    "**e -  Crear un DataFrame llamado en el que estén los elementos únicos del DataFrame original. ¿Cuántos tienen un país de origen indeterminado? ¿Cuántos tienen un tipo de trabajo indeterminado? ¿Cuántos tienen ambas variables indeterminadas a la\n",
    "vez? De entre quienes tienen un país de origen y un tipo de trabajo ambos indeterminados, ¿cuál es la proporción entre hombres y mujeres? ¿Qué porcentaje de ellos cobra menos de 50 mil dólares?**\n"
   ]
  },
  {
   "cell_type": "code",
   "execution_count": 225,
   "id": "f450a8c5-179f-4831-a323-2987262fb528",
   "metadata": {},
   "outputs": [
    {
     "name": "stdout",
     "output_type": "stream",
     "text": [
      "Registros con país de origen indeterminado: 855\n"
     ]
    }
   ],
   "source": [
    "# 1 - Creación de un Dataframe a partir del original que excluya los registros duplicados\n",
    "df_uni = df.drop_duplicates(keep=False)\n",
    "\n",
    "# 2 - Filtramos los registros con país de origen (\"native-country\") indeterminado (NaN, \"?\" o vacío)\n",
    "\n",
    "# Lista de todos los diferentes valores para ver qué posibles valores indeterminados pueden haber.\n",
    "#df_uni['native-country'].unique().tolist()\n",
    "\n",
    "undefined_country = df_uni['native-country'].isna().sum() + (df_uni['native-country'] == \"?\").sum() + (df_uni['native-country'] == \"\").sum()\n",
    "print(f\"Registros con país de origen indeterminado: {undefined_country}\")"
   ]
  },
  {
   "cell_type": "code",
   "execution_count": 224,
   "id": "9e4b4ac4-4f39-41df-a4b2-83f72a054a29",
   "metadata": {},
   "outputs": [
    {
     "name": "stdout",
     "output_type": "stream",
     "text": [
      "Registros con trabajo indeterminado: 2809\n"
     ]
    }
   ],
   "source": [
    "# 3 - Filtramos los registros con país de origen (\"occupation\") indeterminado (NaN, \"?\" o vacío)\n",
    "\n",
    "# Lista de todos los diferentes valores para ver qué posibles valores indeterminados pueden haber.\n",
    "#df_uni['occupation'].unique().tolist()\n",
    "\n",
    "undefined_occupation = df_uni['occupation'].isna().sum() + (df_uni['occupation'] == \"?\").sum() + (df_uni['occupation'] == \"\").sum()\n",
    "print(f\"Registros con trabajo indeterminado: {undefined_occupation}\")"
   ]
  },
  {
   "cell_type": "code",
   "execution_count": 228,
   "id": "106e89e0-a6bb-453b-ac5e-6349e2bbffe6",
   "metadata": {},
   "outputs": [
    {
     "name": "stdout",
     "output_type": "stream",
     "text": [
      "Registros con país de origen y trabajo indeterminado: 19\n"
     ]
    }
   ],
   "source": [
    "# 4 - Contamos los campos de un dataframe creado a partir de filtrar aunando ambas condiciones\n",
    "\n",
    "df_uco = df_uni[\n",
    "    (df_uni[\"native-country\"].isna() | (df_uni[\"native-country\"] == \"Desconocido\") | (df_uni[\"native-country\"] == \"\")) &\n",
    "    (df_uni[\"occupation\"].isna() | (df_uni[\"occupation\"] == \"Desconocido\") | (df_uni[\"occupation\"] == \"\"))\n",
    "]\n",
    "\n",
    "print(f\"Registros con país de origen y trabajo indeterminado: {df_uco.shape[0]}\")"
   ]
  },
  {
   "cell_type": "code",
   "execution_count": 229,
   "id": "97e462eb-ccee-49d8-b103-704dcae17f6a",
   "metadata": {},
   "outputs": [
    {
     "name": "stdout",
     "output_type": "stream",
     "text": [
      "Proporción entre hombres y mujeres (%): sex\n",
      "Male      52.631579\n",
      "Female    47.368421\n",
      "Name: proportion, dtype: float64\n"
     ]
    }
   ],
   "source": [
    "# 4.1 - Sacamos la proporción de hombres y mujeres (sex)\n",
    "sex_rates = df_uco['sex'].value_counts(normalize=True) * 100\n",
    "print(f\"Proporción entre hombres y mujeres (%): {sex_rates}\")"
   ]
  },
  {
   "cell_type": "code",
   "execution_count": 231,
   "id": "e42fe755-e324-4952-9612-a8a362d48206",
   "metadata": {},
   "outputs": [
    {
     "name": "stdout",
     "output_type": "stream",
     "text": [
      "Registros con salarios menores de 50.000: 43\n"
     ]
    }
   ],
   "source": [
    "# 4.2 - Filtrado del DataFrame por el valor de salario (income)\n",
    "num_low_income = df_dup[df_dup['income'] == \"<=50K\"].shape[0]\n",
    "print(f\"Registros con salarios menores de 50.000: {num_low_income}\")"
   ]
  },
  {
   "cell_type": "markdown",
   "id": "551921c5-12d9-4720-bb7f-7b153d1b5da4",
   "metadata": {},
   "source": [
    "**f - Significado de la variable “fnlwgt”. ¿Qué representa? ¿Tiene sentido, desde un punto de vista de Machine Learning, eliminar los registros duplicados en este dataset?**\n",
    "\n",
    "Fuente: https://cdeiuk.github.io/bias-mitigation/finance/\n",
    "**fnlwgt:** Estimación del número de individuos en la población con la misma demografía del sujeto.\n",
    "\n",
    "No tiene sentido eliminar duplicados aunque los registros tuvieran idénticos campos, ya que podría distorsionar la representatividad del análisis.\n"
   ]
  },
  {
   "cell_type": "markdown",
   "id": "02e16f07-a07d-4999-be8f-df9a2cae47d0",
   "metadata": {},
   "source": [
    "**g - ¿Qué dificultades has encontrado a la hora de trabajar con los valores\n",
    "de las variables de este dataset? ¿Sería apropiado buscar una manera\n",
    "automática, usando métodos de Python, de eliminar esa dificultad o\n",
    "dificultades? ¿Se te ocurre cómo hacerlo?.**"
   ]
  },
  {
   "cell_type": "markdown",
   "id": "452f5ac7-37b3-41e5-88ac-e4473613a689",
   "metadata": {},
   "source": [
    "- **Dificultades encontradas:** \n",
    "Lo más difícil ha sido comprender el significado de cada variable y clasificarlas correctamente (la mayor dificultad era la clasificación de las variables categóricas en ordinales y nominales). Algunas variables categóricas que parecen ordinales pero en realidad son nominales, ya que pueden generar confusión al no tener una escala clara.\n",
    "\n",
    "- **¿Sería apropiado automatizar la solución con Python?** \n",
    "Sí, sería útil automatizar la clasificación de variables para evitar confusiones y agilizar el análisis.\n",
    "\n",
    "- **¿Cómo hacerlo?** \n",
    "Podríamos usar pandas para detectar automáticamente el tipo de cada variable, contar valores únicos y aplicar reglas para clasificar si son numéricas o categóricas (ordinales o nominales)."
   ]
  },
  {
   "cell_type": "markdown",
   "id": "07ad11d9-f2cf-4121-a3b3-ab4a62d893e7",
   "metadata": {},
   "source": [
    "## Ejercicio 3\n",
    "**a - Variables numéricas y categóricas: continuas, discretas, ordinales o nominales.**"
   ]
  },
  {
   "cell_type": "code",
   "execution_count": 243,
   "id": "1d87e1ae-5cb4-429f-bb0c-8a4280903e6d",
   "metadata": {},
   "outputs": [
    {
     "name": "stdout",
     "output_type": "stream",
     "text": [
      "  num_expediente       fecha      hora  \\\n",
      "0    2019S000036  02/01/2019  20:45:00   \n",
      "1    2019S000045  03/01/2019  10:30:00   \n",
      "2    2019S000132  03/01/2019  12:45:00   \n",
      "3    2019S000132  03/01/2019  12:45:00   \n",
      "4    2019S000133  03/01/2019  14:30:00   \n",
      "\n",
      "                                      localizacion numero  cod_distrito  \\\n",
      "0  AVDA. GRAN VIA DE HORTALEZA / GTA. LUIS ROSALES    65B            16   \n",
      "1                      CTRA. DEHESA DE LA VILLA, 1      1             9   \n",
      "2      AVDA. SANTA EUGENIA / CALL. REAL DE ARGANDA     64            18   \n",
      "3      AVDA. SANTA EUGENIA / CALL. REAL DE ARGANDA     64            18   \n",
      "4                         CALL. FELIPE ALVAREZ, 10     10            18   \n",
      "\n",
      "            distrito           tipo_accidente estado_meteorológico  \\\n",
      "0          HORTALEZA  Colisión fronto-lateral            Despejado   \n",
      "1    MONCLOA-ARAVACA                    Caída            Despejado   \n",
      "2  VILLA DE VALLECAS                  Alcance            Despejado   \n",
      "3  VILLA DE VALLECAS                  Alcance            Despejado   \n",
      "4  VILLA DE VALLECAS                  Alcance         Se desconoce   \n",
      "\n",
      "  tipo_vehículo tipo_persona       rango_edad    sexo  cod_lesividad  \\\n",
      "0     Bicicleta    Conductor  De 70 a 74 años  Hombre            3.0   \n",
      "1     Bicicleta    Conductor  De 15 a 17 años  Hombre            2.0   \n",
      "2     Bicicleta    Conductor  De 18 a 20 años  Hombre            7.0   \n",
      "3     Bicicleta    Conductor  De 21 a 24 años  Hombre           14.0   \n",
      "4     Bicicleta    Conductor  De 15 a 17 años  Hombre            7.0   \n",
      "\n",
      "                                      tipo_lesividad coordenada_x_utm  \\\n",
      "0                        Ingreso superior a 24 horas      444.591.127   \n",
      "1                Ingreso inferior o igual a 24 horas      438.315.991   \n",
      "2  Asistencia sanitaria sólo en el lugar del acci...      448.366.684   \n",
      "3                           Sin asistencia sanitaria      448.366.684   \n",
      "4  Asistencia sanitaria sólo en el lugar del acci...      447.078.477   \n",
      "\n",
      "  coordenada_y_utm positiva_alcohol  positiva_droga  \n",
      "0    4.479.784.701                N             NaN  \n",
      "1    4.478.761.412                N             NaN  \n",
      "2    4.469.893.796                N             NaN  \n",
      "3    4.469.893.796                N             NaN  \n",
      "4    4.470.344.997                N             NaN  \n"
     ]
    }
   ],
   "source": [
    "# 1.2 - Carga el dataset del repo y crea un Dataframe\n",
    "df = pd.read_csv(\"https://datos.madrid.es/egob/catalogo/300110-18-accidentes-bicicleta.csv\", sep=\";\")\n",
    "\n",
    "print(df.head())"
   ]
  },
  {
   "cell_type": "code",
   "execution_count": 252,
   "id": "0770e76e-b123-4ea7-aea0-bae025327149",
   "metadata": {},
   "outputs": [
    {
     "name": "stdout",
     "output_type": "stream",
     "text": [
      "num_expediente           object\n",
      "fecha                    object\n",
      "hora                     object\n",
      "localizacion             object\n",
      "numero                   object\n",
      "cod_distrito              int64\n",
      "distrito                 object\n",
      "tipo_accidente           object\n",
      "estado_meteorológico     object\n",
      "tipo_vehículo            object\n",
      "tipo_persona             object\n",
      "rango_edad               object\n",
      "sexo                     object\n",
      "cod_lesividad           float64\n",
      "tipo_lesividad           object\n",
      "coordenada_x_utm         object\n",
      "coordenada_y_utm         object\n",
      "positiva_alcohol         object\n",
      "positiva_droga          float64\n",
      "dtype: object\n"
     ]
    }
   ],
   "source": [
    "# 1.0 Vemos los tipos de variables\n",
    "print(df.dtypes)"
   ]
  },
  {
   "cell_type": "markdown",
   "id": "b1a13e80-c4fb-4779-9539-b6a21d3d212c",
   "metadata": {},
   "source": [
    "Por el significado de las variables y sobre todo por los valores observados en las mismas, se pueden clasificar como:\n",
    "\n",
    "**Variables categóricas nominales:** [\"num_expediente\", \"localizacion\", \"numero\", \"distrito\", \"tipo_accidente\", \"estado_meteorológico\", \"tipo_vehículo\", \"tipo_persona\", \"sexo\", \"tipo_lesividad\", \"positiva_alcohol\", \"positiva_droga]\n",
    "\n",
    "**Variables categóricas ordinales:** [\"rango_edad\"]\n",
    "\n",
    "**Variables numéricas discretas:** [\"cod_distrito\", \"cod_lesividad\"]\n",
    "\n",
    "**Variables numéricas continuas:** [\"coordenada_x_utm\", \"coordenada_y_utm\", \"fecha\", \"hora\"]\n",
    "\n",
    "\n",
    "\n",
    "[*]\"cod_lesividad\": Los valores son números pero el dtype es \"object\", tendría dudas de si es categórica ordinal o si es numérica discreta.\n",
    "\n",
    "[**]\"tipo_lesividad\": Con más contexto se podría entender como categórica ordinal en lugar de nominal, si fuera el caso que las lesiones tienen un orden de nivel de gravedad.\n"
   ]
  },
  {
   "cell_type": "markdown",
   "id": "8bf3540d-9e3d-49f7-8a69-9d87b80448ce",
   "metadata": {},
   "source": [
    "**b - ¿Hay valores faltantes en el dataset? Especifica las variables que\n",
    "presentan valores faltantes y cuántos de ellos hay en cada variable.**"
   ]
  },
  {
   "cell_type": "code",
   "execution_count": 262,
   "id": "a746725c-a312-4432-ac3d-ba2a41f2232b",
   "metadata": {},
   "outputs": [
    {
     "name": "stdout",
     "output_type": "stream",
     "text": [
      "Registros de valor indeterminado de estado_meteorológico : 26\n",
      "Registros de valor indeterminado de rango_edad : 16\n",
      "Registros de valor indeterminado de sexo : 15\n",
      "Registros de valor indeterminado de cod_lesividad : 96\n",
      "Registros de valor indeterminado de tipo_lesividad : 96\n",
      "Registros de valor indeterminado de positiva_alcohol : 2\n",
      "Registros de valor indeterminado de positiva_droga : 887\n"
     ]
    }
   ],
   "source": [
    "# Lista de todos los diferentes valores para ver qué posibles valores indeterminados pueden haber.\n",
    "#for column in df.columns:\n",
    "#    print(df[column].unique().tolist())\n",
    "\n",
    "for column in df.columns:\n",
    "    undefined_values = df[column].isna().sum() + (df[column] == \"?\").sum() + (df[column] == \"Desconocido\").sum() + (df[column] == \"\").sum()\n",
    "    if undefined_values > 0:\n",
    "        print(f\"Registros de valor indeterminado de {column} : {undefined_values}\")"
   ]
  },
  {
   "cell_type": "markdown",
   "id": "55f4d8fa-1370-49a8-ac11-ba0db137ddf9",
   "metadata": {},
   "source": [
    "**c - ¿Cuántos valores distintos toma la variable ‘lesividad’? Especifica esos valores. ¿Qué tipo de variable es la variable ‘lesividad’?**"
   ]
  },
  {
   "cell_type": "code",
   "execution_count": 280,
   "id": "f5347c80-8a4c-48d9-b86a-859bfdfbe972",
   "metadata": {},
   "outputs": [
    {
     "name": "stdout",
     "output_type": "stream",
     "text": [
      "Valores únicos de columna \"tipo_lesividad\":\n",
      "\n",
      "Ingreso superior a 24 horas\n",
      "Ingreso inferior o igual a 24 horas\n",
      "Asistencia sanitaria sólo en el lugar del accidente\n",
      "Sin asistencia sanitaria\n",
      "Atención en urgencias sin posterior ingreso\n",
      "nan\n",
      "Asistencia sanitaria inmediata en centro de salud o mutua\n",
      "Asistencia sanitaria ambulatoria con posterioridad\n",
      "Fallecido 24 horas\n",
      "\n",
      "Número de valores diferentes: 8\n",
      "Tipo de variable categórica nominal\n"
     ]
    }
   ],
   "source": [
    "unique_values = df[\"tipo_lesividad\"].unique()\n",
    "num_unique_values = df[\"tipo_lesividad\"].nunique()\n",
    "value_type = df[\"tipo_lesividad\"].dtype\n",
    "\n",
    "print('Valores únicos de columna \"tipo_lesividad\":\\n')\n",
    "print(*unique_values, sep='\\n')\n",
    "print(f\"\\nNúmero de valores diferentes: {num_unique_values}\")\n",
    "print(f\"Tipo de variable categórica nominal\")"
   ]
  },
  {
   "cell_type": "code",
   "execution_count": 281,
   "id": "eef2d3e3-3883-4059-8b91-b502afdb8abe",
   "metadata": {},
   "outputs": [
    {
     "name": "stdout",
     "output_type": "stream",
     "text": [
      "Valores únicos de columna \"cod_lesividad\":\n",
      "\n",
      "3.0\n",
      "2.0\n",
      "7.0\n",
      "14.0\n",
      "1.0\n",
      "nan\n",
      "6.0\n",
      "5.0\n",
      "4.0\n",
      "\n",
      "Número de valores diferentes: 8\n",
      "Tipo de variable numérica discreta\n"
     ]
    }
   ],
   "source": [
    "unique_values = df[\"cod_lesividad\"].unique()\n",
    "num_unique_values = df[\"cod_lesividad\"].nunique()\n",
    "value_type = df[\"cod_lesividad\"].dtype\n",
    "\n",
    "print('Valores únicos de columna \"cod_lesividad\":\\n')\n",
    "print(*unique_values, sep='\\n')\n",
    "print(f\"\\nNúmero de valores diferentes: {num_unique_values}\")\n",
    "print(f\"Tipo de variable numérica discreta\")"
   ]
  },
  {
   "cell_type": "markdown",
   "id": "dde27199-56a2-4e0d-8e41-d672b3ad07fc",
   "metadata": {},
   "source": [
    "**d - Ve al PDF de descripción de los datos, que se encuentra en el mismo\n",
    "enlace aportado en el enunciado. Busca el significado de los valores de\n",
    "lesividad. Explica los significados para cada uno de los valores posibles.\n",
    "¿Qué tipo de variable consideras que puede ser la variable ‘lesividad’?\n",
    "¿Tu respuesta en este apartado es distinta a tu respuesta del apartado\n",
    "anterior? ¿Cómo codificarías esta variable a la hora de utilizar este\n",
    "DataFrame como entrada de un modelo de Machine Learning?**"
   ]
  },
  {
   "cell_type": "markdown",
   "id": "21e6aa86-517b-4f60-93ba-b656d10e28bf",
   "metadata": {},
   "source": [
    "**LESIVIDAD:**\n",
    "- 1.0  / Atención en urgencias sin posterior ingreso. - LEVE\n",
    "- 2.0  / Ingreso inferior o igual a 24 horas - LEVE\n",
    "- 3.0  / Ingreso superior a 24 horas. - GRAVE\n",
    "- 4.0  / Fallecido 24 horas - FALLECIDO\n",
    "- 5.0  / Asistencia sanitaria ambulatoria con posterioridad - LEVE\n",
    "- 6.0  / Asistencia sanitaria inmediata en centro de salud o mutua - LEVE\n",
    "- 7.0  / Asistencia sanitaria sólo en el lugar del accidente - LEVE\n",
    "- 14.0 / Sin asistencia sanitaria\n",
    "- nan  / Se desconoce"
   ]
  },
  {
   "cell_type": "markdown",
   "id": "52051a68-2528-480d-a516-f2c1283b7d0c",
   "metadata": {},
   "source": [
    "Ahora que se tiene un mejor contexto o conocimiento de las definiciones y significados de los valores de esta variable se puede afirmar que \"lesividad\" es una variable de tipo categórica ordinal, aunque en el dataset se encuentra separada en dos columnas.\n",
    "Aunque se podría entender como nominal, los valores llevan asociado un \"nivel\" de gravedad lo que puede indicar un orden en la categoría.\n"
   ]
  },
  {
   "cell_type": "markdown",
   "id": "ecc707cb-6959-41d5-9702-bb98bcaa4b20",
   "metadata": {},
   "source": [
    "Estas dos variables \"cod_lesividad\" y \"tipo_lesividad\" la expresaria en una nueva columna en el Dataframe que contenga un valor numérico de 0 a 4 correspondiendo a:\n",
    "- 0: (nan / Se desconoce)\n",
    "- 1: NULO (14.0 / Sin asistencia)\n",
    "- 2: LEVE (1.0, 2.0, 5.0, 6.0, 7.0)\n",
    "- 3: GRAVE (3.0)\n",
    "- 4: FALLECIDO (4.0)"
   ]
  },
  {
   "cell_type": "markdown",
   "id": "d6960f0f-8894-4ef1-aadf-72872e758405",
   "metadata": {},
   "source": [
    "**e - Sin tener en cuenta los valores faltantes, ¿qué proporción de los accidentes registrados presentaban un test de alcohol positivo?**"
   ]
  },
  {
   "cell_type": "code",
   "execution_count": 285,
   "id": "cc1f73ac-212a-4282-8acd-77cb67c2d03a",
   "metadata": {},
   "outputs": [
    {
     "data": {
      "text/plain": [
       "['N', 'S', nan]"
      ]
     },
     "execution_count": 285,
     "metadata": {},
     "output_type": "execute_result"
    }
   ],
   "source": [
    "# 1 - Lista de todos los diferentes valores de \"positiva_alcohol\".\n",
    "df['positiva_alcohol'].unique().tolist()"
   ]
  },
  {
   "cell_type": "code",
   "execution_count": 286,
   "id": "df7dfd7b-d58a-4877-842b-f16cdf163fc5",
   "metadata": {},
   "outputs": [
    {
     "name": "stdout",
     "output_type": "stream",
     "text": [
      "Proporción de accidentes con test de alcohol positivos y negativos (%): positiva_alcohol\n",
      "N    98.762655\n",
      "S     1.237345\n",
      "Name: proportion, dtype: float64\n"
     ]
    }
   ],
   "source": [
    "# 2 - Nuevo Dataframe filtrando los registros con valores de test de alcohol faltantes\n",
    "df_notna = df[df[\"positiva_alcohol\"].notna()]\n",
    "\n",
    "# 3 - Obtener porcentajes de registros con tests de alcohol con valores \"N\" y \"S\"\n",
    "alcohol_rates = df_notna[\"positiva_alcohol\"].value_counts(normalize=True) * 100\n",
    "print(f\"Proporción de accidentes con test de alcohol positivos y negativos (%): {alcohol_rates}\")"
   ]
  },
  {
   "cell_type": "markdown",
   "id": "f9e729ed-1e35-4261-8ca1-647f1878e552",
   "metadata": {},
   "source": [
    "Según los datos calculados el **porcentage de accidentes registrados que presentan un test de alcohol positivo es del 1.24%**"
   ]
  }
 ],
 "metadata": {
  "kernelspec": {
   "display_name": "Python 3 (ipykernel)",
   "language": "python",
   "name": "python3"
  },
  "language_info": {
   "codemirror_mode": {
    "name": "ipython",
    "version": 3
   },
   "file_extension": ".py",
   "mimetype": "text/x-python",
   "name": "python",
   "nbconvert_exporter": "python",
   "pygments_lexer": "ipython3",
   "version": "3.12.7"
  }
 },
 "nbformat": 4,
 "nbformat_minor": 5
}
