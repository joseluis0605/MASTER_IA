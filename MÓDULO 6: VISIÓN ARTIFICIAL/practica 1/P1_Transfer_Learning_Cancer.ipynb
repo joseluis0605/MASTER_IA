{
 "cells": [
  {
   "metadata": {},
   "cell_type": "markdown",
   "source": [
    "<font size=\"4\">\n",
    "\n",
    "## Práctica 1: Clasificación de Imágenes usando Transfer Learning\n",
    "\n",
    "Se adjunta como anexo el conjunto de datos Skin-Cancer. Dicho conjunto de datos\n",
    "contiene imágenes de diversos tumores cutáneos divididos en dos clases: Maligno o Benigno.\n",
    "Se busca desarrollar un algoritmo que clasifique los tumores del conjunto de datos\n",
    "proporcionado en Malignos mediante redes neuronales en PyTorch. Se pide partir de un\n",
    "algoritmo de Deep Learning preentrenado en una topología ya disponible (VGG,\n",
    "ResNet, etc.) y aplicar Transfer Learning."
   ],
   "id": "eb18e734d8f92963"
  },
  {
   "cell_type": "code",
   "id": "initial_id",
   "metadata": {
    "collapsed": true,
    "ExecuteTime": {
     "end_time": "2025-05-30T18:29:19.917481Z",
     "start_time": "2025-05-30T18:29:02.441908Z"
    }
   },
   "source": [
    "import kagglehub\n",
    "from sympy.printing.pytorch import torch\n",
    "\n",
    "# Download latest version\n",
    "#path = kagglehub.dataset_download(\"fanconic/skin-cancer-malignant-vs-benign\")\n",
    "\n",
    "#print(\"Path to dataset files:\", path)"
   ],
   "outputs": [
    {
     "name": "stdout",
     "output_type": "stream",
     "text": [
      "Warning: Looks like you're using an outdated `kagglehub` version, please consider updating (latest version: 0.3.12)\n",
      "Downloading from https://www.kaggle.com/api/v1/datasets/download/fanconic/skin-cancer-malignant-vs-benign?dataset_version_number=4...\n"
     ]
    },
    {
     "name": "stderr",
     "output_type": "stream",
     "text": [
      "100%|██████████| 325M/325M [00:15<00:00, 22.4MB/s] "
     ]
    },
    {
     "name": "stdout",
     "output_type": "stream",
     "text": [
      "Extracting model files...\n"
     ]
    },
    {
     "name": "stderr",
     "output_type": "stream",
     "text": [
      "\n"
     ]
    },
    {
     "name": "stdout",
     "output_type": "stream",
     "text": [
      "Path to dataset files: /Users/joseluismezquitajimenez/.cache/kagglehub/datasets/fanconic/skin-cancer-malignant-vs-benign/versions/4\n"
     ]
    }
   ],
   "execution_count": 1
  },
  {
   "metadata": {},
   "cell_type": "markdown",
   "source": [
    "<font size=\"4\">\n",
    "\n",
    "Una vez ya tenemos descargado el dataset de imágenes, procedemos a importar las librerías"
   ],
   "id": "2dfc3852906f4247"
  },
  {
   "metadata": {
    "ExecuteTime": {
     "end_time": "2025-05-30T21:43:47.866398Z",
     "start_time": "2025-05-30T21:43:47.860913Z"
    }
   },
   "cell_type": "code",
   "source": [
    "# importamos librerias\n",
    "import torch \n",
    "import torchvision\n",
    "import torch.nn as nn\n",
    "import torch.optim as optim\n",
    "from torchvision.models import resnet18, ResNet18_Weights\n",
    "from torchvision import transforms, datasets\n",
    "from torch.utils.data import DataLoader\n",
    "from tqdm import tqdm\n"
   ],
   "id": "199506626bf31c24",
   "outputs": [],
   "execution_count": 83
  },
  {
   "metadata": {},
   "cell_type": "markdown",
   "source": [
    "<font size=\"4\">\n",
    "\n",
    "A continuación vamos a definir el device que será el lugar de procesamiento al que enviaremos los datos. En este caso, usaremos mps, ya que este ordenador es un MacBook Pro M3, mientras que los ordenadores windows usan cuda como gráfica."
   ],
   "id": "4e19de880948172c"
  },
  {
   "metadata": {
    "ExecuteTime": {
     "end_time": "2025-05-30T21:43:49.251188Z",
     "start_time": "2025-05-30T21:43:49.247933Z"
    }
   },
   "cell_type": "code",
   "source": [
    "# definimos el device al que le enviaremos los datos y el modelo\n",
    "device = torch.device(\"mps\" if  torch.mps.is_available() else \"cpu\")\n",
    "print(device)"
   ],
   "id": "bb1b866065143748",
   "outputs": [
    {
     "name": "stdout",
     "output_type": "stream",
     "text": [
      "mps\n"
     ]
    }
   ],
   "execution_count": 84
  },
  {
   "metadata": {},
   "cell_type": "markdown",
   "source": [
    "<font size=\"4\">\n",
    "\n",
    "Una vez ya tenemos el dataset descargado con las imágenes en su correspondiente carpeta, debemos transformarlo a tensor, que es la estructura que se utilizan en las redes neuronales convolucionales. \n",
    "\n",
    "Para ello, vamos a usar la funcion transforms.Compose(), con la que estableceremos una especie de pipeline, en donde, haremos todas las transformaciones al dataset (toTensor, resize...)"
   ],
   "id": "f3f864788e4a75b"
  },
  {
   "metadata": {
    "ExecuteTime": {
     "end_time": "2025-05-30T21:43:51.237875Z",
     "start_time": "2025-05-30T21:43:51.233958Z"
    }
   },
   "cell_type": "code",
   "source": [
    "# realizamos transformaciones\n",
    "transformaciones = transforms.Compose([transforms.ToTensor(), # convertimos a tensor\n",
    "                                       transforms.Resize((224, 224)), # ajustamos tamaño a 224x224\n",
    "                                       transforms.Normalize(mean=[0.485, 0.456, 0.406], # normalizamos con media y deviacion\n",
    "                                                            std=[0.229, 0.224, 0.225]),\n",
    "                                       ])"
   ],
   "id": "d8fe1f3ade687195",
   "outputs": [],
   "execution_count": 85
  },
  {
   "metadata": {},
   "cell_type": "markdown",
   "source": [
    "<font size=\"4\">\n",
    "\n",
    "Una vez ya tenemos establecida la transformación que se le va a aplicar a las imagenes, vamos a definir el dataloader de entrenamiento\n",
    "y de test, aplicándoles la transformación. Además, indicaremos el batch para el conjunto de entrenamiento."
   ],
   "id": "fc952742a50bca12"
  },
  {
   "metadata": {
    "ExecuteTime": {
     "end_time": "2025-05-30T21:49:04.496194Z",
     "start_time": "2025-05-30T21:49:04.487897Z"
    }
   },
   "cell_type": "code",
   "source": [
    "# lectura de imagenes de un dataset\n",
    "dataset_train = datasets.ImageFolder(\"dataset/train\", transform=transformaciones)\n",
    "dataset_test = datasets.ImageFolder(\"dataset/test\", transform=transformaciones)\n",
    "\n",
    "len(dataset_train), len(dataset_test)"
   ],
   "id": "3a4e83a93125cc09",
   "outputs": [
    {
     "data": {
      "text/plain": [
       "(2637, 660)"
      ]
     },
     "execution_count": 96,
     "metadata": {},
     "output_type": "execute_result"
    }
   ],
   "execution_count": 96
  },
  {
   "metadata": {},
   "cell_type": "markdown",
   "source": [
    "<font size=\"4\">\n",
    "\n",
    "Ya hemos leido los directorios y las imágenes se encuentran almacenadas junto a su valor en dataset_train y dataset_test. A continuación mostramos el formato que tiene una tupla (imagen_tensor, valor).\n",
    "\n",
    "Como podemos ver, se trata de una imagen de 3 canales RGB (lo que significa que es una imagen de color) y su etiqueta."
   ],
   "id": "3a93c1ffedff64a4"
  },
  {
   "metadata": {
    "ExecuteTime": {
     "end_time": "2025-05-30T21:43:55.774150Z",
     "start_time": "2025-05-30T21:43:55.764913Z"
    }
   },
   "cell_type": "code",
   "source": [
    "imagen, valor = dataset_train[0]\n",
    "imagen.shape, valor"
   ],
   "id": "3603943285698d8",
   "outputs": [
    {
     "data": {
      "text/plain": [
       "(torch.Size([3, 224, 224]), 0)"
      ]
     },
     "execution_count": 87,
     "metadata": {},
     "output_type": "execute_result"
    }
   ],
   "execution_count": 87
  },
  {
   "metadata": {
    "ExecuteTime": {
     "end_time": "2025-05-30T21:43:59.645600Z",
     "start_time": "2025-05-30T21:43:56.797064Z"
    }
   },
   "cell_type": "code",
   "source": [
    "# recuento de cada etiqueta\n",
    "v1 = 0\n",
    "v0 = 0\n",
    "for imagen, valor in dataset_train:\n",
    "    if valor == 1:\n",
    "        v1 += 1\n",
    "    else:\n",
    "        v0 += 1\n",
    "print(f\"valor 1: {v1}, valor 0: {v0}, total = {v1+v0}\")"
   ],
   "id": "4cb8e82373b0aad3",
   "outputs": [
    {
     "name": "stdout",
     "output_type": "stream",
     "text": [
      "valor 1: 1197, valor 0: 1440, total = 2637\n"
     ]
    }
   ],
   "execution_count": 88
  },
  {
   "metadata": {},
   "cell_type": "markdown",
   "source": [
    "<font size=\"4\">\n",
    "\n",
    "Preparamos el dataset aplicando la función Dataloader, la cual nos va a permitir añadir una dimensión más al tensor. Esta nueva dimensión hace referencia al tamaño del batch."
   ],
   "id": "8e539d5713b543be"
  },
  {
   "metadata": {
    "ExecuteTime": {
     "end_time": "2025-05-30T21:44:00.984224Z",
     "start_time": "2025-05-30T21:44:00.980898Z"
    }
   },
   "cell_type": "code",
   "source": [
    "dataset_train = DataLoader(dataset_train, batch_size=64, shuffle=True)\n",
    "dataset_test = DataLoader(dataset_test, batch_size=64, shuffle=True)"
   ],
   "id": "7a64e5354d45df4e",
   "outputs": [],
   "execution_count": 89
  },
  {
   "metadata": {},
   "cell_type": "markdown",
   "source": [
    "<font size=\"4\">\n",
    "\n",
    "Ya tenemos todo preparado, ahora es el momento de seleccionar el modelo pre-entrenado. En nuestro caso, vamos a utilizar el modelo conocido como ResNet18. \n",
    "\n",
    "**ResNet18** es una arquitectura de red neuronal convolucional diseñada para tareas de visión por computadora, como clasificación de imágenes, que forma parte de la familia de las redes residuales (*Residual Networks*). Su principal innovación son los **bloques residuales**, que utilizan *skip connections* (conexiones de atajo) para permitir que la información fluya directamente entre capas no contiguas, lo cual facilita el entrenamiento de redes más profundas al evitar el problema del *vanishing gradient*. ResNet18 tiene **18 capas con pesos entrenables**, incluyendo convoluciones y una única capa densa final, lo que la hace compacta y eficiente. Es especialmente útil cuando se entrena con datasets de tamaño moderado o cuando se hace *transfer learning* usando pesos preentrenados en grandes conjuntos como ImageNet.\n",
    "\n",
    "A continuación, se muestra una imagen sobre la arquitectura que tiene:\n",
    "![Resnet](Original-ResNet-18-Architecture.png)\n",
    "\n",
    "\n",
    "En el siguiente fragmento de código, vamos a crearnos una instancia del modelo pre-entrenado, en donde, congelaremos los pesos de las capas para aprovecharnos de esa ventaja. Después vamos a modificar la salida ajustándola a nuestro problema.\n",
    "\n",
    "Para ello, nuestra red neuronal tendra N entradas, luego pasará por 3 capas ocultas de 128, 64 y 16 neuronas y, terminando por la capa de salida formada por 2 únicas neuronas."
   ],
   "id": "5e80829077fe643e"
  },
  {
   "metadata": {
    "ExecuteTime": {
     "end_time": "2025-05-30T21:44:03.827192Z",
     "start_time": "2025-05-30T21:44:03.608532Z"
    }
   },
   "cell_type": "code",
   "source": [
    "# obtenemos los pesos\n",
    "pesos = ResNet18_Weights.DEFAULT\n",
    "# creamos instancia del modelo\n",
    "modelo = torchvision.models.resnet18(weights=pesos)\n",
    "\n",
    "# congelamos las capas convolucionales para no modificar pesos en el train\n",
    "for parametro in modelo.parameters():\n",
    "    parametro.requires_grad = False\n",
    "\n",
    "# modificamos la salida ajustandola a nuestro problema (output=2)\n",
    "modelo.fc = nn.Sequential(\n",
    "    nn.Linear(modelo.fc.in_features, 128),\n",
    "    nn.ReLU(),\n",
    "    nn.Dropout(0.5),\n",
    "    nn.Linear(128, 64),\n",
    "    nn.ReLU(),\n",
    "    nn.Dropout(0.4),\n",
    "    nn.Linear(64, 16),\n",
    "    nn.ReLU(),\n",
    "    nn.Dropout(0.5),\n",
    "    nn.Linear(16, 2),\n",
    ")\n",
    "\n",
    "# enciamos modelo al device\n",
    "modelo = modelo.to(device)\n",
    "\n",
    "print(f\"Información del modelo\\n {modelo}\")"
   ],
   "id": "f2e89498eb7408e3",
   "outputs": [
    {
     "name": "stdout",
     "output_type": "stream",
     "text": [
      "Información del modelo\n",
      " ResNet(\n",
      "  (conv1): Conv2d(3, 64, kernel_size=(7, 7), stride=(2, 2), padding=(3, 3), bias=False)\n",
      "  (bn1): BatchNorm2d(64, eps=1e-05, momentum=0.1, affine=True, track_running_stats=True)\n",
      "  (relu): ReLU(inplace=True)\n",
      "  (maxpool): MaxPool2d(kernel_size=3, stride=2, padding=1, dilation=1, ceil_mode=False)\n",
      "  (layer1): Sequential(\n",
      "    (0): BasicBlock(\n",
      "      (conv1): Conv2d(64, 64, kernel_size=(3, 3), stride=(1, 1), padding=(1, 1), bias=False)\n",
      "      (bn1): BatchNorm2d(64, eps=1e-05, momentum=0.1, affine=True, track_running_stats=True)\n",
      "      (relu): ReLU(inplace=True)\n",
      "      (conv2): Conv2d(64, 64, kernel_size=(3, 3), stride=(1, 1), padding=(1, 1), bias=False)\n",
      "      (bn2): BatchNorm2d(64, eps=1e-05, momentum=0.1, affine=True, track_running_stats=True)\n",
      "    )\n",
      "    (1): BasicBlock(\n",
      "      (conv1): Conv2d(64, 64, kernel_size=(3, 3), stride=(1, 1), padding=(1, 1), bias=False)\n",
      "      (bn1): BatchNorm2d(64, eps=1e-05, momentum=0.1, affine=True, track_running_stats=True)\n",
      "      (relu): ReLU(inplace=True)\n",
      "      (conv2): Conv2d(64, 64, kernel_size=(3, 3), stride=(1, 1), padding=(1, 1), bias=False)\n",
      "      (bn2): BatchNorm2d(64, eps=1e-05, momentum=0.1, affine=True, track_running_stats=True)\n",
      "    )\n",
      "  )\n",
      "  (layer2): Sequential(\n",
      "    (0): BasicBlock(\n",
      "      (conv1): Conv2d(64, 128, kernel_size=(3, 3), stride=(2, 2), padding=(1, 1), bias=False)\n",
      "      (bn1): BatchNorm2d(128, eps=1e-05, momentum=0.1, affine=True, track_running_stats=True)\n",
      "      (relu): ReLU(inplace=True)\n",
      "      (conv2): Conv2d(128, 128, kernel_size=(3, 3), stride=(1, 1), padding=(1, 1), bias=False)\n",
      "      (bn2): BatchNorm2d(128, eps=1e-05, momentum=0.1, affine=True, track_running_stats=True)\n",
      "      (downsample): Sequential(\n",
      "        (0): Conv2d(64, 128, kernel_size=(1, 1), stride=(2, 2), bias=False)\n",
      "        (1): BatchNorm2d(128, eps=1e-05, momentum=0.1, affine=True, track_running_stats=True)\n",
      "      )\n",
      "    )\n",
      "    (1): BasicBlock(\n",
      "      (conv1): Conv2d(128, 128, kernel_size=(3, 3), stride=(1, 1), padding=(1, 1), bias=False)\n",
      "      (bn1): BatchNorm2d(128, eps=1e-05, momentum=0.1, affine=True, track_running_stats=True)\n",
      "      (relu): ReLU(inplace=True)\n",
      "      (conv2): Conv2d(128, 128, kernel_size=(3, 3), stride=(1, 1), padding=(1, 1), bias=False)\n",
      "      (bn2): BatchNorm2d(128, eps=1e-05, momentum=0.1, affine=True, track_running_stats=True)\n",
      "    )\n",
      "  )\n",
      "  (layer3): Sequential(\n",
      "    (0): BasicBlock(\n",
      "      (conv1): Conv2d(128, 256, kernel_size=(3, 3), stride=(2, 2), padding=(1, 1), bias=False)\n",
      "      (bn1): BatchNorm2d(256, eps=1e-05, momentum=0.1, affine=True, track_running_stats=True)\n",
      "      (relu): ReLU(inplace=True)\n",
      "      (conv2): Conv2d(256, 256, kernel_size=(3, 3), stride=(1, 1), padding=(1, 1), bias=False)\n",
      "      (bn2): BatchNorm2d(256, eps=1e-05, momentum=0.1, affine=True, track_running_stats=True)\n",
      "      (downsample): Sequential(\n",
      "        (0): Conv2d(128, 256, kernel_size=(1, 1), stride=(2, 2), bias=False)\n",
      "        (1): BatchNorm2d(256, eps=1e-05, momentum=0.1, affine=True, track_running_stats=True)\n",
      "      )\n",
      "    )\n",
      "    (1): BasicBlock(\n",
      "      (conv1): Conv2d(256, 256, kernel_size=(3, 3), stride=(1, 1), padding=(1, 1), bias=False)\n",
      "      (bn1): BatchNorm2d(256, eps=1e-05, momentum=0.1, affine=True, track_running_stats=True)\n",
      "      (relu): ReLU(inplace=True)\n",
      "      (conv2): Conv2d(256, 256, kernel_size=(3, 3), stride=(1, 1), padding=(1, 1), bias=False)\n",
      "      (bn2): BatchNorm2d(256, eps=1e-05, momentum=0.1, affine=True, track_running_stats=True)\n",
      "    )\n",
      "  )\n",
      "  (layer4): Sequential(\n",
      "    (0): BasicBlock(\n",
      "      (conv1): Conv2d(256, 512, kernel_size=(3, 3), stride=(2, 2), padding=(1, 1), bias=False)\n",
      "      (bn1): BatchNorm2d(512, eps=1e-05, momentum=0.1, affine=True, track_running_stats=True)\n",
      "      (relu): ReLU(inplace=True)\n",
      "      (conv2): Conv2d(512, 512, kernel_size=(3, 3), stride=(1, 1), padding=(1, 1), bias=False)\n",
      "      (bn2): BatchNorm2d(512, eps=1e-05, momentum=0.1, affine=True, track_running_stats=True)\n",
      "      (downsample): Sequential(\n",
      "        (0): Conv2d(256, 512, kernel_size=(1, 1), stride=(2, 2), bias=False)\n",
      "        (1): BatchNorm2d(512, eps=1e-05, momentum=0.1, affine=True, track_running_stats=True)\n",
      "      )\n",
      "    )\n",
      "    (1): BasicBlock(\n",
      "      (conv1): Conv2d(512, 512, kernel_size=(3, 3), stride=(1, 1), padding=(1, 1), bias=False)\n",
      "      (bn1): BatchNorm2d(512, eps=1e-05, momentum=0.1, affine=True, track_running_stats=True)\n",
      "      (relu): ReLU(inplace=True)\n",
      "      (conv2): Conv2d(512, 512, kernel_size=(3, 3), stride=(1, 1), padding=(1, 1), bias=False)\n",
      "      (bn2): BatchNorm2d(512, eps=1e-05, momentum=0.1, affine=True, track_running_stats=True)\n",
      "    )\n",
      "  )\n",
      "  (avgpool): AdaptiveAvgPool2d(output_size=(1, 1))\n",
      "  (fc): Sequential(\n",
      "    (0): Linear(in_features=512, out_features=128, bias=True)\n",
      "    (1): ReLU()\n",
      "    (2): Dropout(p=0.5, inplace=False)\n",
      "    (3): Linear(in_features=128, out_features=64, bias=True)\n",
      "    (4): ReLU()\n",
      "    (5): Dropout(p=0.4, inplace=False)\n",
      "    (6): Linear(in_features=64, out_features=16, bias=True)\n",
      "    (7): ReLU()\n",
      "    (8): Dropout(p=0.5, inplace=False)\n",
      "    (9): Linear(in_features=16, out_features=2, bias=True)\n",
      "  )\n",
      ")\n"
     ]
    }
   ],
   "execution_count": 90
  },
  {
   "metadata": {},
   "cell_type": "markdown",
   "source": [
    "<font size=\"4\">\n",
    "\n",
    "Ya tenemos todo preparado, solo nos queda entrenar el modelo. Para ello, antes de nada, debemos definir la función de pérdida, la función de optimización, que es la encargada de ajustar los pesos.\n",
    "\n",
    "Después de esto, entrenamos el modelo."
   ],
   "id": "c29ea4f21a50fb06"
  },
  {
   "metadata": {
    "ExecuteTime": {
     "end_time": "2025-05-30T21:46:07.343877Z",
     "start_time": "2025-05-30T21:44:07.940654Z"
    }
   },
   "cell_type": "code",
   "source": [
    "# funcion de coste\n",
    "funcion_perdida = nn.CrossEntropyLoss()\n",
    "\n",
    "# funcion de optimizacion\n",
    "optimizer = torch.optim.Adam(modelo.parameters(), lr=0.001)\n",
    "\n",
    "# Inicializar listas para guardar métricas\n",
    "epochs = 10\n",
    "train_losses, train_accuracies = [], []\n",
    "test_losses, test_accuracies = [], []\n",
    "\n",
    "# Inicializar listas para guardar métricas\n",
    "for epoch in range(epochs):\n",
    "    modelo.train()\n",
    "    running_loss, correct, total = 0.0, 0, 0\n",
    "    bar = tqdm(dataset_train, desc=f\"Epoch {epoch+1}\")\n",
    "\n",
    "    for images, labels in bar:\n",
    "        images, labels = images.to(device), labels.to(device)\n",
    "        optimizer.zero_grad()\n",
    "        outputs = modelo(images)\n",
    "        loss = funcion_perdida(outputs, labels)\n",
    "        loss.backward()\n",
    "        optimizer.step()\n",
    "\n",
    "        running_loss += loss.item()\n",
    "        _, predicted = outputs.max(1)\n",
    "        correct += predicted.eq(labels).sum().item()\n",
    "        total += labels.size(0)\n",
    "\n",
    "        bar.set_postfix(loss=running_loss / len(dataset_train))\n",
    "\n",
    "    train_losses.append(running_loss / len(dataset_train))\n",
    "    train_accuracies.append(correct / total)\n",
    "\n",
    "    # Evaluación en test dentro del bucle para guardar cada época\n",
    "    modelo.eval()\n",
    "    test_loss, correct_test, total_test = 0.0, 0, 0\n",
    "    with torch.no_grad():\n",
    "        for images, labels in dataset_test:\n",
    "            images, labels = images.to(device), labels.to(device)\n",
    "            outputs = modelo(images)\n",
    "            loss = funcion_perdida(outputs, labels)\n",
    "            test_loss += loss.item()\n",
    "            _, predicted = outputs.max(1)\n",
    "            correct_test += predicted.eq(labels).sum().item()\n",
    "            total_test += labels.size(0)\n",
    "\n",
    "    test_losses.append(test_loss / len(dataset_test))\n",
    "    test_accuracies.append(correct_test / total_test)\n",
    "\n",
    "    print(f\"Epoch {epoch+1} completada.\")\n",
    "    print(f\"  Train -> Loss: {train_losses[-1]:.4f}, Acc: {train_accuracies[-1]:.4f}\")\n",
    "    print(f\"  Test  -> Loss: {test_losses[-1]:.4f}, Acc: {test_accuracies[-1]:.4f}\")\n"
   ],
   "id": "595cfa045a6ca48",
   "outputs": [
    {
     "name": "stderr",
     "output_type": "stream",
     "text": [
      "Epoch 1: 100%|██████████| 42/42 [00:10<00:00,  4.17it/s, loss=0.589]\n"
     ]
    },
    {
     "name": "stdout",
     "output_type": "stream",
     "text": [
      "Epoch 1 completada.\n",
      "  Train -> Loss: 0.5890, Acc: 0.6701\n",
      "  Test  -> Loss: 0.4107, Acc: 0.8121\n"
     ]
    },
    {
     "name": "stderr",
     "output_type": "stream",
     "text": [
      "Epoch 2: 100%|██████████| 42/42 [00:10<00:00,  4.12it/s, loss=0.479]\n"
     ]
    },
    {
     "name": "stdout",
     "output_type": "stream",
     "text": [
      "Epoch 2 completada.\n",
      "  Train -> Loss: 0.4793, Acc: 0.7812\n",
      "  Test  -> Loss: 0.3889, Acc: 0.8167\n"
     ]
    },
    {
     "name": "stderr",
     "output_type": "stream",
     "text": [
      "Epoch 3: 100%|██████████| 42/42 [00:09<00:00,  4.34it/s, loss=0.412] \n"
     ]
    },
    {
     "name": "stdout",
     "output_type": "stream",
     "text": [
      "Epoch 3 completada.\n",
      "  Train -> Loss: 0.4119, Acc: 0.8244\n",
      "  Test  -> Loss: 0.3614, Acc: 0.8379\n"
     ]
    },
    {
     "name": "stderr",
     "output_type": "stream",
     "text": [
      "Epoch 4: 100%|██████████| 42/42 [00:09<00:00,  4.44it/s, loss=0.382] \n"
     ]
    },
    {
     "name": "stdout",
     "output_type": "stream",
     "text": [
      "Epoch 4 completada.\n",
      "  Train -> Loss: 0.3823, Acc: 0.8362\n",
      "  Test  -> Loss: 0.3595, Acc: 0.8197\n"
     ]
    },
    {
     "name": "stderr",
     "output_type": "stream",
     "text": [
      "Epoch 5: 100%|██████████| 42/42 [00:09<00:00,  4.43it/s, loss=0.373] \n"
     ]
    },
    {
     "name": "stdout",
     "output_type": "stream",
     "text": [
      "Epoch 5 completada.\n",
      "  Train -> Loss: 0.3728, Acc: 0.8271\n",
      "  Test  -> Loss: 0.3339, Acc: 0.8424\n"
     ]
    },
    {
     "name": "stderr",
     "output_type": "stream",
     "text": [
      "Epoch 6: 100%|██████████| 42/42 [00:09<00:00,  4.33it/s, loss=0.339] \n"
     ]
    },
    {
     "name": "stdout",
     "output_type": "stream",
     "text": [
      "Epoch 6 completada.\n",
      "  Train -> Loss: 0.3391, Acc: 0.8502\n",
      "  Test  -> Loss: 0.3404, Acc: 0.8439\n"
     ]
    },
    {
     "name": "stderr",
     "output_type": "stream",
     "text": [
      "Epoch 7: 100%|██████████| 42/42 [00:09<00:00,  4.27it/s, loss=0.309] \n"
     ]
    },
    {
     "name": "stdout",
     "output_type": "stream",
     "text": [
      "Epoch 7 completada.\n",
      "  Train -> Loss: 0.3095, Acc: 0.8567\n",
      "  Test  -> Loss: 0.3264, Acc: 0.8424\n"
     ]
    },
    {
     "name": "stderr",
     "output_type": "stream",
     "text": [
      "Epoch 8: 100%|██████████| 42/42 [00:09<00:00,  4.64it/s, loss=0.32]  \n"
     ]
    },
    {
     "name": "stdout",
     "output_type": "stream",
     "text": [
      "Epoch 8 completada.\n",
      "  Train -> Loss: 0.3204, Acc: 0.8574\n",
      "  Test  -> Loss: 0.3190, Acc: 0.8485\n"
     ]
    },
    {
     "name": "stderr",
     "output_type": "stream",
     "text": [
      "Epoch 9: 100%|██████████| 42/42 [00:09<00:00,  4.55it/s, loss=0.303] \n"
     ]
    },
    {
     "name": "stdout",
     "output_type": "stream",
     "text": [
      "Epoch 9 completada.\n",
      "  Train -> Loss: 0.3032, Acc: 0.8631\n",
      "  Test  -> Loss: 0.3177, Acc: 0.8439\n"
     ]
    },
    {
     "name": "stderr",
     "output_type": "stream",
     "text": [
      "Epoch 10: 100%|██████████| 42/42 [00:09<00:00,  4.37it/s, loss=0.328] \n"
     ]
    },
    {
     "name": "stdout",
     "output_type": "stream",
     "text": [
      "Epoch 10 completada.\n",
      "  Train -> Loss: 0.3282, Acc: 0.8464\n",
      "  Test  -> Loss: 0.3454, Acc: 0.8167\n"
     ]
    }
   ],
   "execution_count": 91
  },
  {
   "metadata": {},
   "cell_type": "markdown",
   "source": [
    "<font size=\"4\">\n",
    "\n",
    "Una vez ya está entrenado y evaluado el modelo, pasamos a las métricas. Para ello, procederemos a dibujar la curva de pérdida, de precisión y la matriz de confusión."
   ],
   "id": "9308aefbb2b1feb1"
  },
  {
   "metadata": {
    "ExecuteTime": {
     "end_time": "2025-05-30T21:46:07.521333Z",
     "start_time": "2025-05-30T21:46:07.407980Z"
    }
   },
   "cell_type": "code",
   "source": [
    "import matplotlib.pyplot as plt\n",
    "\n",
    "plt.figure(figsize=(12, 5))\n",
    "\n",
    "# Curva de pérdida\n",
    "plt.subplot(1, 2, 1)\n",
    "plt.plot(train_losses, label='Train Loss', marker='o')\n",
    "plt.plot(test_losses, label='Test Loss', marker='o')\n",
    "plt.title(\"Curva de pérdida\")\n",
    "plt.xlabel(\"Época\")\n",
    "plt.ylabel(\"Loss\")\n",
    "plt.legend()\n",
    "plt.grid(True)\n",
    "\n",
    "# Curva de precisión\n",
    "plt.subplot(1, 2, 2)\n",
    "plt.plot(train_accuracies, label='Train Accuracy', marker='o')\n",
    "plt.plot(test_accuracies, label='Test Accuracy', marker='o')\n",
    "plt.title(\"Curva de precisión\")\n",
    "plt.xlabel(\"Época\")\n",
    "plt.ylabel(\"Accuracy\")\n",
    "plt.legend()\n",
    "plt.grid(True)\n",
    "\n",
    "plt.tight_layout()\n",
    "plt.show()"
   ],
   "id": "2af0112c1140427d",
   "outputs": [
    {
     "data": {
      "text/plain": [
       "<Figure size 1200x500 with 2 Axes>"
      ],
      "image/png": "[encoded data removed]"
     },
     "metadata": {},
     "output_type": "display_data"
    }
   ],
   "execution_count": 92
  },
  {
   "metadata": {
    "ExecuteTime": {
     "end_time": "2025-05-30T21:46:09.940118Z",
     "start_time": "2025-05-30T21:46:07.669604Z"
    }
   },
   "cell_type": "code",
   "source": [
    "from sklearn.metrics import confusion_matrix, ConfusionMatrixDisplay\n",
    "\n",
    "modelo.eval()\n",
    "all_preds, all_labels = [], []\n",
    "\n",
    "with torch.no_grad():\n",
    "    for images, labels in dataset_test:\n",
    "        images = images.to(device)\n",
    "        outputs = modelo(images)\n",
    "        _, preds = outputs.max(1)\n",
    "        all_preds.extend(preds.cpu().numpy())\n",
    "        all_labels.extend(labels.numpy())\n",
    "\n",
    "cm = confusion_matrix(all_labels, all_preds)\n",
    "disp = ConfusionMatrixDisplay(confusion_matrix=cm)\n",
    "disp.plot(cmap=\"Blues\")\n",
    "plt.title(\"Matriz de Confusión\")\n",
    "plt.show()\n"
   ],
   "id": "7f4fb54dff54015b",
   "outputs": [
    {
     "data": {
      "text/plain": [
       "<Figure size 640x480 with 2 Axes>"
      ],
      "image/png": "[encoded data removed]"
     },
     "metadata": {},
     "output_type": "display_data"
    }
   ],
   "execution_count": 93
  },
  {
   "metadata": {},
   "cell_type": "markdown",
   "source": [
    "<font size=\"4\">\n",
    "\n",
    "Como podemos observar en las gráficas de pérdida y de precisión, conforme van ejecutándose las épocas, los resultados van mejorando. Vemos que la pérdida va reduciéndose y la precisión de los aciertos va mejorando de manera notable.\n",
    "\n",
    "Por otro lado, podemos ver, mediante la matriz de confusión, que la precisión de acierto es muy buena, tanto para cuando se trata de tumor maligno como el contrario. El porcentaje de acierto tanto para una clase como para la otra es de 539 sobre 660, lo que viene a ser una precisión del 81,67% de aciertos durante la etapa de evaluación con el conjunto de test."
   ],
   "id": "75a0416099a35301"
  }
 ],
 "metadata": {
  "kernelspec": {
   "display_name": "Python 3",
   "language": "python",
   "name": "python3"
  },
  "language_info": {
   "codemirror_mode": {
    "name": "ipython",
    "version": 2
   },
   "file_extension": ".py",
   "mimetype": "text/x-python",
   "name": "python",
   "nbconvert_exporter": "python",
   "pygments_lexer": "ipython2",
   "version": "2.7.6"
  }
 },
 "nbformat": 4,
 "nbformat_minor": 5
}
